{
 "cells": [
  {
   "cell_type": "code",
   "execution_count": 1,
   "metadata": {},
   "outputs": [],
   "source": [
    "import torch\n",
    "import torch.nn.functional as F\n",
    "import matplotlib.pyplot as plt\n",
    "import random\n",
    "import math\n",
    "\n",
    "%matplotlib inline"
   ]
  },
  {
   "cell_type": "code",
   "execution_count": 2,
   "metadata": {},
   "outputs": [
    {
     "data": {
      "text/plain": [
       "['emma', 'olivia', 'ava', 'isabella', 'sophia']"
      ]
     },
     "execution_count": 2,
     "metadata": {},
     "output_type": "execute_result"
    }
   ],
   "source": [
    "# load words\n",
    "words = open(\"names.txt\").read().splitlines()\n",
    "words[:5]"
   ]
  },
  {
   "cell_type": "code",
   "execution_count": 3,
   "metadata": {},
   "outputs": [
    {
     "name": "stdout",
     "output_type": "stream",
     "text": [
      " 0 -> .\t\t14 -> n\n",
      " 1 -> a\t\t15 -> o\n",
      " 2 -> b\t\t16 -> p\n",
      " 3 -> c\t\t17 -> q\n",
      " 4 -> d\t\t18 -> r\n",
      " 5 -> e\t\t19 -> s\n",
      " 6 -> f\t\t20 -> t\n",
      " 7 -> g\t\t21 -> u\n",
      " 8 -> h\t\t22 -> v\n",
      " 9 -> i\t\t23 -> w\n",
      "10 -> j\t\t24 -> x\n",
      "11 -> k\t\t25 -> y\n",
      "12 -> l\t\t26 -> z\n",
      "13 -> m\t\t\n"
     ]
    }
   ],
   "source": [
    "DELIMITER = \".\"\n",
    "chars = sorted(set(list(\"\".join(words))))\n",
    "stoi = {s: i + 1 for i, s in enumerate(chars)}\n",
    "stoi.update({\".\": 0})\n",
    "itos = {i: s for s, i in stoi.items()}\n",
    "vocab_size = len(itos)\n",
    "\n",
    "\n",
    "# pretty print\n",
    "skip_index = 27\n",
    "items = [(i, itos.get(i)) for i in range(len(itos)) if i != skip_index]\n",
    "\n",
    "first_col = items[: len(items) // 2 + len(items) % 2]\n",
    "second_col = items[len(items) // 2 + len(items) % 2 :]\n",
    "\n",
    "for first, second in zip(first_col, second_col + [(None, None)]):\n",
    "    first_str = f\"{first[0]:>2} -> {first[1]}\"\n",
    "    second_str = f\"{second[0]:>2} -> {second[1]}\" if second[0] is not None else \"\"\n",
    "    print(f\"{first_str}\\t\\t{second_str}\")"
   ]
  },
  {
   "cell_type": "markdown",
   "metadata": {},
   "source": [
    "Build the dataset"
   ]
  },
  {
   "cell_type": "code",
   "execution_count": 4,
   "metadata": {},
   "outputs": [
    {
     "name": "stdout",
     "output_type": "stream",
     "text": [
      "torch.Size([182625, 4]) torch.Size([182625])\n",
      "torch.Size([22655, 4]) torch.Size([22655])\n",
      "torch.Size([22866, 4]) torch.Size([22866])\n"
     ]
    }
   ],
   "source": [
    "# architecture\n",
    "CONTEXT_LENGTH = 4\n",
    "N_EMBEDDINGS = 12\n",
    "N_HIDDEN = 1024\n",
    "# training\n",
    "BATCH_SIZE = 64\n",
    "EPOCHS = 300_000\n",
    "LR_START = 0.3\n",
    "LR_END = 0.001\n",
    "K = 9  # LR decay rate\n",
    "\n",
    "random.seed(42)\n",
    "random.shuffle(words)  # shuffles in place\n",
    "\n",
    "\n",
    "def build_dataset(words: list[str]) -> tuple[torch.Tensor, torch.Tensor]:\n",
    "    X, Y = [], []\n",
    "\n",
    "    for word in words:\n",
    "        context = [0] * CONTEXT_LENGTH\n",
    "        for char in word + DELIMITER:\n",
    "            ix = stoi[char]\n",
    "            X.append(context)\n",
    "            Y.append(ix)\n",
    "            context = context[1:] + [ix]\n",
    "\n",
    "    X = torch.tensor(X)\n",
    "    Y = torch.tensor(Y)\n",
    "    print(X.shape, Y.shape)\n",
    "    return X, Y\n",
    "\n",
    "\n",
    "splits = int(0.8 * len(words)), int(0.9 * len(words))\n",
    "\n",
    "X_train, Y_train = build_dataset(words[: splits[0]])\n",
    "X_dev, Y_dev = build_dataset(words[splits[0] : splits[1]])\n",
    "X_test, Y_test = build_dataset(words[splits[1] :])"
   ]
  },
  {
   "cell_type": "code",
   "execution_count": 5,
   "metadata": {},
   "outputs": [],
   "source": [
    "g = torch.Generator().manual_seed(2147483647)\n",
    "kaiming_init = (5 / 3) / (N_EMBEDDINGS * CONTEXT_LENGTH) ** 0.5\n",
    "# Tensors\n",
    "C = torch.randn([vocab_size, N_EMBEDDINGS], generator=g)\n",
    "W1 = torch.randn([N_EMBEDDINGS * CONTEXT_LENGTH, N_HIDDEN], generator=g) * kaiming_init\n",
    "b1 = torch.randn([N_HIDDEN], generator=g) * 0.01\n",
    "W2 = torch.randn([N_HIDDEN, vocab_size], generator=g) * 0.01\n",
    "b2 = torch.randn([vocab_size], generator=g) * 0.01\n",
    "\n",
    "# normalization gain and shift\n",
    "batch_norm_gain = torch.ones([1, N_HIDDEN])\n",
    "batch_norm_bias = torch.zeros([1, N_HIDDEN])\n",
    "\n",
    "parameters = [C, W1, b1, W2, b2, batch_norm_gain, batch_norm_bias]\n",
    "\n",
    "# add gradients\n",
    "for p in parameters:\n",
    "    p.requires_grad = True"
   ]
  },
  {
   "cell_type": "code",
   "execution_count": 6,
   "metadata": {},
   "outputs": [
    {
     "name": "stdout",
     "output_type": "stream",
     "text": [
      "Number of parameters in model: 80,223\n"
     ]
    }
   ],
   "source": [
    "print(f\"Number of parameters in model: {sum(p.nelement() for p in parameters):,}\")"
   ]
  },
  {
   "cell_type": "markdown",
   "metadata": {},
   "source": [
    "Training"
   ]
  },
  {
   "cell_type": "code",
   "execution_count": 7,
   "metadata": {},
   "outputs": [
    {
     "name": "stdout",
     "output_type": "stream",
     "text": [
      "Saved first `h` tensor\n",
      "Epoch      0: loss = 3.275609, lr = 0.300000, % of tanh values saturated = 0.009567\n",
      "Epoch  30000: loss = 1.951928, lr = 0.122564, % of tanh values saturated = 0.006470\n",
      "Epoch  60000: loss = 1.993474, lr = 0.050424, % of tanh values saturated = 0.013870\n",
      "Epoch  90000: loss = 2.219589, lr = 0.021094, % of tanh values saturated = 0.016769\n",
      "Epoch 120000: loss = 1.962524, lr = 0.009170, % of tanh values saturated = 0.016968\n",
      "Epoch 150000: loss = 2.058014, lr = 0.004322, % of tanh values saturated = 0.017502\n",
      "Epoch 180000: loss = 1.576630, lr = 0.002350, % of tanh values saturated = 0.018600\n",
      "Epoch 210000: loss = 1.896502, lr = 0.001549, % of tanh values saturated = 0.019028\n",
      "Epoch 240000: loss = 1.772595, lr = 0.001223, % of tanh values saturated = 0.020615\n",
      "Epoch 270000: loss = 1.845596, lr = 0.001091, % of tanh values saturated = 0.019257\n",
      "Epoch 299999: loss = 1.752936, lr = 0.001037, % of tanh values saturated = 0.020294\n"
     ]
    }
   ],
   "source": [
    "lri = []\n",
    "lossi = []\n",
    "stepi = []\n",
    "\n",
    "for i in range(EPOCHS):\n",
    "    batch_indices = torch.randint(0, X_train.shape[0], (BATCH_SIZE,))\n",
    "\n",
    "    # forward pass\n",
    "    embeddings = C[X_train[batch_indices]]\n",
    "    h_pre_activation = embeddings.view(-1, N_EMBEDDINGS * CONTEXT_LENGTH) @ W1 + b1\n",
    "    h_pre_activation_norm = (\n",
    "        batch_norm_gain\n",
    "        * (h_pre_activation - h_pre_activation.mean(0, keepdim=True))\n",
    "        / h_pre_activation.std(0, keepdim=True)\n",
    "    ) + batch_norm_bias\n",
    "    h = torch.tanh(h_pre_activation_norm)\n",
    "    if i == 0:\n",
    "        h_i1 = h\n",
    "        print(\"Saved first `h` tensor\")\n",
    "    logits = h @ W2 + b2\n",
    "    loss = F.cross_entropy(logits, Y_train[batch_indices])\n",
    "\n",
    "    for p in parameters:\n",
    "        p.grad = None\n",
    "    loss.backward()\n",
    "\n",
    "    lr = LR_END + (LR_START - LR_END) * math.exp(-K * (i / EPOCHS))\n",
    "    for p in parameters:\n",
    "        p.data += -lr * p.grad\n",
    "\n",
    "    # tracking\n",
    "    stepi.append(i)\n",
    "    lri.append(lr)\n",
    "    lossi.append(loss.item())\n",
    "\n",
    "    if (i % (EPOCHS // 10) == 0) | (i == EPOCHS - 1):\n",
    "        print(\n",
    "            f\"Epoch {i:6}: loss = {loss:6f}, lr = {lr:.6f}, % of tanh values saturated = {(h.abs() > 0.99).float().mean().item():.6f}\"\n",
    "        )"
   ]
  },
  {
   "cell_type": "markdown",
   "metadata": {},
   "source": [
    "---\n",
    "Analyzing `h` (tanh) distribution"
   ]
  },
  {
   "cell_type": "code",
   "execution_count": 17,
   "metadata": {},
   "outputs": [
    {
     "data": {
      "text/plain": [
       "(array([1364., 1487., 1445., 1385., 1426., 1389., 1198., 1290., 1242.,\n",
       "        1198., 1146., 1075., 1082., 1085., 1029., 1026.,  927.,  984.,\n",
       "         984., 1017., 1018.,  874.,  928.,  975.,  918.,  949.,  934.,\n",
       "         869.,  889.,  890.,  856., 1063.,  843.,  909.,  897.,  864.,\n",
       "         906.,  887.,  899.,  958.,  937.,  957., 1027.,  916.,  947.,\n",
       "        1033., 1008., 1047., 1057., 1072., 1164., 1192., 1178., 1273.,\n",
       "        1369., 1354., 1396., 1440., 1587., 1477.]),\n",
       " array([-9.99813557e-01, -9.66485862e-01, -9.33158167e-01, -8.99830472e-01,\n",
       "        -8.66502778e-01, -8.33175083e-01, -7.99847388e-01, -7.66519694e-01,\n",
       "        -7.33191999e-01, -6.99864304e-01, -6.66536609e-01, -6.33208915e-01,\n",
       "        -5.99881220e-01, -5.66553525e-01, -5.33225830e-01, -4.99898136e-01,\n",
       "        -4.66570441e-01, -4.33242746e-01, -3.99915051e-01, -3.66587357e-01,\n",
       "        -3.33259662e-01, -2.99931967e-01, -2.66604273e-01, -2.33276578e-01,\n",
       "        -1.99948883e-01, -1.66621188e-01, -1.33293494e-01, -9.99657989e-02,\n",
       "        -6.66381041e-02, -3.33104094e-02,  1.72853470e-05,  3.33449801e-02,\n",
       "         6.66726748e-02,  1.00000370e-01,  1.33328064e-01,  1.66655759e-01,\n",
       "         1.99983454e-01,  2.33311148e-01,  2.66638843e-01,  2.99966538e-01,\n",
       "         3.33294233e-01,  3.66621927e-01,  3.99949622e-01,  4.33277317e-01,\n",
       "         4.66605012e-01,  4.99932706e-01,  5.33260401e-01,  5.66588096e-01,\n",
       "         5.99915791e-01,  6.33243485e-01,  6.66571180e-01,  6.99898875e-01,\n",
       "         7.33226569e-01,  7.66554264e-01,  7.99881959e-01,  8.33209654e-01,\n",
       "         8.66537348e-01,  8.99865043e-01,  9.33192738e-01,  9.66520433e-01,\n",
       "         9.99848127e-01]),\n",
       " <BarContainer object of 60 artists>)"
      ]
     },
     "execution_count": 17,
     "metadata": {},
     "output_type": "execute_result"
    },
    {
     "data": {
      "image/png": "[encoded data removed]",
      "text/plain": [
       "<Figure size 640x480 with 1 Axes>"
      ]
     },
     "metadata": {},
     "output_type": "display_data"
    }
   ],
   "source": [
    "plt.hist(h_i1.view(-1).tolist(), 60)"
   ]
  },
  {
   "cell_type": "code",
   "execution_count": 18,
   "metadata": {},
   "outputs": [
    {
     "data": {
      "text/plain": [
       "<matplotlib.image.AxesImage at 0x7f31b8a1ca10>"
      ]
     },
     "execution_count": 18,
     "metadata": {},
     "output_type": "execute_result"
    },
    {
     "data": {
      "image/png": "[encoded data removed]",
      "text/plain": [
       "<Figure size 2000x1000 with 1 Axes>"
      ]
     },
     "metadata": {},
     "output_type": "display_data"
    }
   ],
   "source": [
    "plt.figure(figsize=(20, 10))\n",
    "plt.imshow(h_i1.abs() > 0.99, cmap=\"grey\", interpolation=\"nearest\")"
   ]
  },
  {
   "cell_type": "markdown",
   "metadata": {},
   "source": [
    "---"
   ]
  },
  {
   "cell_type": "code",
   "execution_count": 19,
   "metadata": {},
   "outputs": [
    {
     "data": {
      "text/plain": [
       "[<matplotlib.lines.Line2D at 0x7f31b9688bf0>]"
      ]
     },
     "execution_count": 19,
     "metadata": {},
     "output_type": "execute_result"
    },
    {
     "data": {
      "image/png": "[encoded data removed]",
      "text/plain": [
       "<Figure size 640x480 with 1 Axes>"
      ]
     },
     "metadata": {},
     "output_type": "display_data"
    }
   ],
   "source": [
    "plt.plot(stepi, lossi)"
   ]
  },
  {
   "cell_type": "markdown",
   "metadata": {},
   "source": [
    "Calibrate batch norm at end of training"
   ]
  },
  {
   "cell_type": "code",
   "execution_count": 20,
   "metadata": {},
   "outputs": [],
   "source": [
    "with torch.no_grad():\n",
    "    embeddings = C[X_train]\n",
    "    h_pre_activation = embeddings.view(-1, N_EMBEDDINGS * CONTEXT_LENGTH) @ W1 + b1\n",
    "    batch_norm_mean = h_pre_activation.mean(0, keepdim=True)\n",
    "    batch_norm_std = h_pre_activation.std(0, keepdim=True)"
   ]
  },
  {
   "cell_type": "code",
   "execution_count": 21,
   "metadata": {},
   "outputs": [
    {
     "name": "stdout",
     "output_type": "stream",
     "text": [
      "tensor(1.8630, grad_fn=<NllLossBackward0>)\n"
     ]
    }
   ],
   "source": [
    "# loss on whole training set\n",
    "embeddings = C[X_train]\n",
    "h_pre_activation = embeddings.view(-1, N_EMBEDDINGS * CONTEXT_LENGTH) @ W1 + b1\n",
    "h_pre_activation_norm = (\n",
    "    batch_norm_gain * ((h_pre_activation - batch_norm_mean) / batch_norm_std)\n",
    "    + batch_norm_bias\n",
    ")\n",
    "h = torch.tanh(h_pre_activation_norm)\n",
    "logits = h @ W2 + b2\n",
    "loss = F.cross_entropy(logits, Y_train)\n",
    "print(loss)"
   ]
  },
  {
   "cell_type": "code",
   "execution_count": 22,
   "metadata": {},
   "outputs": [
    {
     "name": "stdout",
     "output_type": "stream",
     "text": [
      "tensor(2.0165, grad_fn=<NllLossBackward0>)\n"
     ]
    }
   ],
   "source": [
    "# loss on dev set\n",
    "embeddings = C[X_dev]\n",
    "h_pre_activation = embeddings.view(-1, N_EMBEDDINGS * CONTEXT_LENGTH) @ W1 + b1\n",
    "h_pre_activation_norm = (\n",
    "    batch_norm_gain * ((h_pre_activation - batch_norm_mean) / batch_norm_std)\n",
    "    + batch_norm_bias\n",
    ")\n",
    "h = torch.tanh(h_pre_activation_norm)\n",
    "logits = h @ W2 + b2\n",
    "loss = F.cross_entropy(logits, Y_dev)\n",
    "print(loss)"
   ]
  },
  {
   "cell_type": "code",
   "execution_count": 23,
   "metadata": {},
   "outputs": [
    {
     "data": {
      "image/png": "[encoded data removed]",
      "text/plain": [
       "<Figure size 800x800 with 1 Axes>"
      ]
     },
     "metadata": {},
     "output_type": "display_data"
    }
   ],
   "source": [
    "# visualize dimensions 0 and 1 of the embedding matrix C for all characters\n",
    "plt.figure(figsize=(8, 8))\n",
    "plt.scatter(C[:, 0].data, C[:, 1].data, s=200)\n",
    "for i in range(C.shape[0]):\n",
    "    plt.text(\n",
    "        C[i, 0].item(), C[i, 1].item(), itos[i], ha=\"center\", va=\"center\", color=\"white\"\n",
    "    )\n",
    "plt.grid(\"minor\")"
   ]
  },
  {
   "cell_type": "markdown",
   "metadata": {},
   "source": [
    "Sample"
   ]
  },
  {
   "cell_type": "code",
   "execution_count": 24,
   "metadata": {},
   "outputs": [
    {
     "name": "stdout",
     "output_type": "stream",
     "text": [
      "montay.\n",
      "yazziee.\n",
      "madhayah.\n",
      "reise.\n",
      "jendrien.\n",
      "adelyn.\n",
      "eliah.\n",
      "milopa.\n",
      "edelisanana.\n",
      "septy.\n",
      "malaia.\n",
      "noshub.\n",
      "ridhira.\n",
      "stel.\n",
      "joselynn.\n",
      "novalen.\n",
      "brenddi.\n",
      "kyler.\n",
      "mehs.\n",
      "kayshawn.\n"
     ]
    }
   ],
   "source": [
    "g = torch.Generator().manual_seed(2147483647 + 10)\n",
    "generated_names = []\n",
    "\n",
    "for _ in range(20):\n",
    "    out = []\n",
    "    context = [0] * CONTEXT_LENGTH\n",
    "    while True:\n",
    "        emb = C[torch.tensor([context])]  # (1,block_size,d)\n",
    "        h_pre_activation = emb.view(-1, N_EMBEDDINGS * CONTEXT_LENGTH) @ W1 + b1\n",
    "        h_pre_activation_norm = (\n",
    "            batch_norm_gain * ((h_pre_activation - batch_norm_mean) / batch_norm_std)\n",
    "            + batch_norm_bias\n",
    "        )\n",
    "        h = torch.tanh(h_pre_activation_norm)\n",
    "        logits = h @ W2 + b2\n",
    "        probs = F.softmax(logits, dim=1)\n",
    "        ix = torch.multinomial(probs, num_samples=1, generator=g).item()\n",
    "        context = context[1:] + [ix]\n",
    "        out.append(ix)\n",
    "        if ix == 0:\n",
    "            break\n",
    "    generated_names.append(\"\".join(itos[i] for i in out))\n",
    "for name in generated_names:\n",
    "    print(name)"
   ]
  },
  {
   "cell_type": "code",
   "execution_count": 25,
   "metadata": {},
   "outputs": [
    {
     "data": {
      "text/plain": [
       "['montay.',\n",
       " 'reise.',\n",
       " 'adelyn.',\n",
       " 'eliah.',\n",
       " 'malaia.',\n",
       " 'joselynn.',\n",
       " 'kyler.',\n",
       " 'kayshawn.']"
      ]
     },
     "execution_count": 25,
     "metadata": {},
     "output_type": "execute_result"
    }
   ],
   "source": [
    "[w for w in generated_names if w[:-1] in words]"
   ]
  },
  {
   "cell_type": "code",
   "execution_count": null,
   "metadata": {},
   "outputs": [],
   "source": []
  }
 ],
 "metadata": {
  "kernelspec": {
   "display_name": ".venv",
   "language": "python",
   "name": "python3"
  },
  "language_info": {
   "codemirror_mode": {
    "name": "ipython",
    "version": 3
   },
   "file_extension": ".py",
   "mimetype": "text/x-python",
   "name": "python",
   "nbconvert_exporter": "python",
   "pygments_lexer": "ipython3",
   "version": "3.12.1"
  }
 },
 "nbformat": 4,
 "nbformat_minor": 2
}
