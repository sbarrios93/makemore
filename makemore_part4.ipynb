{
 "cells": [
  {
   "cell_type": "code",
   "execution_count": 1,
   "metadata": {},
   "outputs": [],
   "source": [
    "import torch\n",
    "import torch.nn.functional as F\n",
    "import matplotlib.pyplot as plt\n",
    "import random\n",
    "from tqdm.notebook import tqdm\n",
    "import math\n",
    "\n",
    "%matplotlib inline\n",
    "%load_ext autoreload\n",
    "%autoreload 2"
   ]
  },
  {
   "cell_type": "code",
   "execution_count": 2,
   "metadata": {},
   "outputs": [
    {
     "name": "stdout",
     "output_type": "stream",
     "text": [
      "32033\n",
      "15\n",
      "['emma', 'olivia', 'ava', 'isabella', 'sophia', 'charlotte', 'mia', 'amelia']\n"
     ]
    }
   ],
   "source": [
    "words = open(\"names.txt\", \"r\").read().splitlines()\n",
    "print(len(words))\n",
    "print(max(len(w) for w in words))\n",
    "print(words[:8])"
   ]
  },
  {
   "cell_type": "code",
   "execution_count": 3,
   "metadata": {},
   "outputs": [],
   "source": [
    "# build the dataset\n",
    "CONTEXT_LENGTH = 5\n",
    "DELIMITER = \".\"\n",
    "N_EMBEDDINGS = 12\n",
    "N_HIDDEN = 512\n",
    "BATCH_SIZE = 64\n",
    "EPOCHS = 200_000\n",
    "# n ois a short alias for BATCH_SIZE\n",
    "n = BATCH_SIZE\n",
    "# learning rate parameters\n",
    "LR_START = 0.1\n",
    "LR_END = 0.01\n",
    "K = 1.3  # LR decay rate"
   ]
  },
  {
   "cell_type": "code",
   "execution_count": 4,
   "metadata": {},
   "outputs": [
    {
     "name": "stdout",
     "output_type": "stream",
     "text": [
      "{1: 'a', 2: 'b', 3: 'c', 4: 'd', 5: 'e', 6: 'f', 7: 'g', 8: 'h', 9: 'i', 10: 'j', 11: 'k', 12: 'l', 13: 'm', 14: 'n', 15: 'o', 16: 'p', 17: 'q', 18: 'r', 19: 's', 20: 't', 21: 'u', 22: 'v', 23: 'w', 24: 'x', 25: 'y', 26: 'z', 0: '.'}\n",
      "27\n"
     ]
    }
   ],
   "source": [
    "# build the vocabulary\n",
    "chars = sorted(list(set(\"\".join(words))))\n",
    "stoi = {s: i + 1 for i, s in enumerate(chars)}\n",
    "stoi[DELIMITER] = 0\n",
    "itos = {i: s for s, i in stoi.items()}\n",
    "vocab_size = len(itos)\n",
    "print(itos)\n",
    "print(vocab_size)"
   ]
  },
  {
   "cell_type": "code",
   "execution_count": 5,
   "metadata": {},
   "outputs": [
    {
     "name": "stdout",
     "output_type": "stream",
     "text": [
      "torch.Size([182625, 5]) torch.Size([182625])\n",
      "torch.Size([22655, 5]) torch.Size([22655])\n",
      "torch.Size([22866, 5]) torch.Size([22866])\n"
     ]
    }
   ],
   "source": [
    "def build_dataset(words: list[str]) -> tuple[torch.Tensor, torch.Tensor]:\n",
    "    X, Y = [], []\n",
    "    for word in words:\n",
    "        context = [0] * CONTEXT_LENGTH\n",
    "        for char in word + DELIMITER:\n",
    "            ix = stoi[char]\n",
    "            X.append(context)\n",
    "            Y.append(ix)\n",
    "            context = context[1:] + [ix]\n",
    "\n",
    "    X = torch.tensor(X)\n",
    "    Y = torch.tensor(Y)\n",
    "    print(X.shape, Y.shape)\n",
    "    return X, Y\n",
    "\n",
    "\n",
    "random.seed(42)\n",
    "random.shuffle(words)\n",
    "n1, n2 = int(0.8 * len(words)), int(0.9 * len(words))\n",
    "\n",
    "X_train, Y_train = build_dataset(words[:n1])\n",
    "X_dev, Y_dev = build_dataset(words[n1:n2])\n",
    "X_test, Y_test = build_dataset(words[n2:])"
   ]
  },
  {
   "cell_type": "code",
   "execution_count": 6,
   "metadata": {},
   "outputs": [],
   "source": [
    "# utility to compare manual gradient with torch's version\n",
    "def cmp(s, dt, t):\n",
    "    ex = torch.all(dt == t.grad).item()\n",
    "    app = torch.allclose(dt, t.grad)\n",
    "    maxdiff = (dt - t.grad).abs().max().item()\n",
    "    print(\n",
    "        f\"{s:20s} | exact: {str(ex):5s} | approximate: {str(app):5s} | maxdiff: {maxdiff:e}\"\n",
    "    )"
   ]
  },
  {
   "cell_type": "markdown",
   "metadata": {},
   "source": [
    "Initializating many of these parameters in non-standard ways because sometimes initializating with e.g. all zeros could mask an incorrect implementation of the backward pass."
   ]
  },
  {
   "cell_type": "code",
   "execution_count": 7,
   "metadata": {},
   "outputs": [
    {
     "name": "stdout",
     "output_type": "stream",
     "text": [
      "46431\n"
     ]
    }
   ],
   "source": [
    "g = torch.Generator().manual_seed(2147483647)\n",
    "C = torch.randn((vocab_size, N_EMBEDDINGS), generator=g)\n",
    "\n",
    "# first layer\n",
    "W1 = (\n",
    "    torch.randn((N_EMBEDDINGS * CONTEXT_LENGTH, N_HIDDEN), generator=g)\n",
    "    * (5 / 3)\n",
    "    / ((N_EMBEDDINGS * CONTEXT_LENGTH) ** 0.5)\n",
    ")\n",
    "b1 = torch.randn(N_HIDDEN, generator=g) * 0.1\n",
    "\n",
    "# second layer\n",
    "W2 = torch.randn((N_HIDDEN, vocab_size), generator=g) * 0.1\n",
    "b2 = torch.randn(vocab_size, generator=g) * 0.1\n",
    "\n",
    "# BatchNorm parameters\n",
    "batch_norm_gain = torch.randn((1, N_HIDDEN), generator=g) * 0.1 + 1.0\n",
    "batch_norm_bias = torch.randn((1, N_HIDDEN), generator=g) * 0.1\n",
    "\n",
    "parameters = [C, W1, b1, W2, b2, batch_norm_gain, batch_norm_bias]\n",
    "print(sum(p.nelement() for p in parameters))\n",
    "for p in parameters:\n",
    "    p.requires_grad = True"
   ]
  },
  {
   "cell_type": "code",
   "execution_count": 8,
   "metadata": {},
   "outputs": [],
   "source": [
    "# construct minibatch\n",
    "ix = torch.randint(0, X_train.shape[0], (BATCH_SIZE,), generator=g)\n",
    "X_batch, Y_batch = X_train[ix], Y_train[ix]"
   ]
  },
  {
   "cell_type": "code",
   "execution_count": 9,
   "metadata": {},
   "outputs": [
    {
     "data": {
      "text/plain": [
       "tensor(4.0187, grad_fn=<NegBackward0>)"
      ]
     },
     "execution_count": 9,
     "metadata": {},
     "output_type": "execute_result"
    }
   ],
   "source": [
    "# forward pass\n",
    "embeddings = C[X_batch]\n",
    "embeddings_concat = embeddings.view(embeddings.shape[0], -1)\n",
    "# linear layer 1\n",
    "h_pre_batch_norm = embeddings_concat @ W1 + b1\n",
    "# BatchNorm layer\n",
    "batch_norm_mean_i = 1 / n * h_pre_batch_norm.sum(0, keepdim=True)\n",
    "batch_norm_diff = h_pre_batch_norm - batch_norm_mean_i\n",
    "batch_norm_diff_2 = batch_norm_diff**2\n",
    "batch_norm_var = 1 / (n - 1) * (batch_norm_diff_2).sum(0, keepdim=True)\n",
    "batch_norm_var_inv = (batch_norm_var + 1e-5) ** -0.5\n",
    "batch_norm_raw = batch_norm_diff * batch_norm_var_inv\n",
    "h_pre_act = batch_norm_gain * batch_norm_raw + batch_norm_bias\n",
    "# Non-linearity\n",
    "h = torch.tanh(h_pre_act)\n",
    "# Linear layer 2\n",
    "logits = h @ W2 + b2\n",
    "# cross entropy\n",
    "logit_maxes = logits.max(1, keepdim=True).values\n",
    "norm_logits = logits - logit_maxes\n",
    "counts = norm_logits.exp()\n",
    "counts_sum = counts.sum(1, keepdim=True)\n",
    "counts_sum_inv = counts_sum**-1\n",
    "probs = counts * counts_sum_inv\n",
    "logprobs = probs.log()\n",
    "loss = -logprobs[range(n), Y_batch].mean()\n",
    "\n",
    "# PyTorch backward pass\n",
    "for p in parameters:\n",
    "    p.grad = None\n",
    "for t in [\n",
    "    logprobs,\n",
    "    probs,\n",
    "    counts,\n",
    "    counts_sum,\n",
    "    counts_sum_inv,\n",
    "    norm_logits,\n",
    "    logit_maxes,\n",
    "    logits,\n",
    "    h,\n",
    "    h_pre_act,\n",
    "    batch_norm_raw,\n",
    "    batch_norm_var_inv,\n",
    "    batch_norm_var,\n",
    "    batch_norm_diff_2,\n",
    "    batch_norm_diff,\n",
    "    h_pre_batch_norm,\n",
    "    batch_norm_mean_i,\n",
    "    embeddings_concat,\n",
    "    embeddings,\n",
    "]:\n",
    "    t.retain_grad()\n",
    "loss.backward()\n",
    "loss"
   ]
  },
  {
   "cell_type": "markdown",
   "metadata": {},
   "source": [
    "## Manual gradients"
   ]
  },
  {
   "cell_type": "code",
   "execution_count": 10,
   "metadata": {},
   "outputs": [],
   "source": [
    "# dlogprobs\n",
    "dlogprobs = torch.zeros_like(logprobs)\n",
    "dlogprobs[range(n), Y_batch] = -1 / n\n",
    "dprobs = 1 / probs * dlogprobs\n",
    "dcounts_sum_inv = (counts * dprobs).sum(1, keepdim=True)\n",
    "dcounts = counts_sum_inv * dprobs\n",
    "dcounts_sum = -(counts_sum**-2) * dcounts_sum_inv\n",
    "dcounts += torch.ones_like(counts) * dcounts_sum  # second branch\n",
    "dnorm_logits = counts * dcounts\n",
    "dlogit_maxes = (-1 * dnorm_logits).sum(1, keepdim=True)\n",
    "dlogits = (\n",
    "    dnorm_logits.clone()\n",
    "    + F.one_hot(logits.max(1).indices, num_classes=logits.shape[1]) * dlogit_maxes\n",
    ")\n",
    "dh = dlogits @ W2.T\n",
    "dW2 = h.T @ dlogits\n",
    "db2 = dlogits.sum(0)\n",
    "dh_pre_act = (1.0 - h**2) * dh\n",
    "dbatch_norm_gain = (batch_norm_raw * dh_pre_act).sum(0, keepdim=True)\n",
    "dbatch_norm_bias = dh_pre_act.sum(0)\n",
    "dbatch_norm_raw = batch_norm_gain * dh_pre_act\n",
    "dbatch_norm_var_inv = (batch_norm_diff * dbatch_norm_raw).sum(0, keepdim=True)\n",
    "dbatch_norm_diff = batch_norm_var_inv * dbatch_norm_raw\n",
    "dbatch_norm_var = (-0.5 * (batch_norm_var + 1e-5) ** (-3 / 2)) * dbatch_norm_var_inv\n",
    "dbatch_norm_diff_2 = 1 / (n - 1) * dbatch_norm_var.sum(0, keepdim=True)\n",
    "dbatch_norm_diff += 2 * batch_norm_diff * dbatch_norm_diff_2\n",
    "dbatch_norm_mean_i = -1.0 * dbatch_norm_diff.sum(0, keepdim=True)\n",
    "dh_pre_batch_norm = dbatch_norm_diff + 1 / n * dbatch_norm_mean_i\n",
    "dembeddings_concat = dh_pre_batch_norm @ W1.T\n",
    "dW1 = embeddings_concat.T @ dh_pre_batch_norm\n",
    "db1 = dh_pre_batch_norm.sum(0)\n",
    "dembeddings = dembeddings_concat.view(-1, CONTEXT_LENGTH, N_EMBEDDINGS)\n",
    "### dC\n",
    "dC = torch.zeros_like(C)\n",
    "for k in range(X_batch.shape[0]):\n",
    "    for j in range(X_batch.shape[1]):\n",
    "        ix = X_batch[k, j]\n",
    "        dC[ix] += dembeddings[k, j]\n",
    "### dC end"
   ]
  },
  {
   "cell_type": "code",
   "execution_count": 11,
   "metadata": {},
   "outputs": [
    {
     "name": "stdout",
     "output_type": "stream",
     "text": [
      "logprobs             | exact: True  | approximate: True  | maxdiff: 0.000000e+00\n",
      "probs                | exact: True  | approximate: True  | maxdiff: 0.000000e+00\n",
      "counts_sum_inv       | exact: True  | approximate: True  | maxdiff: 0.000000e+00\n",
      "counts_sum           | exact: True  | approximate: True  | maxdiff: 0.000000e+00\n",
      "counts               | exact: True  | approximate: True  | maxdiff: 0.000000e+00\n",
      "norm_logits          | exact: True  | approximate: True  | maxdiff: 0.000000e+00\n",
      "logit_maxes          | exact: True  | approximate: True  | maxdiff: 0.000000e+00\n",
      "logits               | exact: True  | approximate: True  | maxdiff: 0.000000e+00\n",
      "h                    | exact: True  | approximate: True  | maxdiff: 0.000000e+00\n",
      "W2                   | exact: True  | approximate: True  | maxdiff: 0.000000e+00\n",
      "b2                   | exact: True  | approximate: True  | maxdiff: 0.000000e+00\n",
      "h_pre_act            | exact: False | approximate: True  | maxdiff: 4.656613e-10\n",
      "batch_norm_gain      | exact: False | approximate: True  | maxdiff: 1.862645e-09\n",
      "batch_norm_bias      | exact: False | approximate: True  | maxdiff: 3.725290e-09\n",
      "batch_norm_raw       | exact: False | approximate: True  | maxdiff: 6.984919e-10\n",
      "batch_norm_var_inv   | exact: False | approximate: True  | maxdiff: 3.725290e-09\n",
      "batch_norm_var       | exact: False | approximate: True  | maxdiff: 4.656613e-10\n",
      "batch_norm_diff_2    | exact: False | approximate: True  | maxdiff: 7.275958e-12\n",
      "batch_norm_diff      | exact: False | approximate: True  | maxdiff: 4.656613e-10\n",
      "batch_norm_mean_i    | exact: False | approximate: True  | maxdiff: 3.725290e-09\n",
      "h_pre_batch_norm     | exact: False | approximate: True  | maxdiff: 4.656613e-10\n",
      "embeddings_concat    | exact: False | approximate: True  | maxdiff: 1.862645e-09\n",
      "W1                   | exact: False | approximate: True  | maxdiff: 7.450581e-09\n",
      "b1                   | exact: False | approximate: True  | maxdiff: 4.423782e-09\n",
      "embeddings           | exact: False | approximate: True  | maxdiff: 1.862645e-09\n",
      "C                    | exact: False | approximate: True  | maxdiff: 3.352761e-08\n"
     ]
    }
   ],
   "source": [
    "cmp(\"logprobs\", dlogprobs, logprobs)\n",
    "cmp(\"probs\", dprobs, probs)\n",
    "cmp(\"counts_sum_inv\", dcounts_sum_inv, counts_sum_inv)\n",
    "cmp(\"counts_sum\", dcounts_sum, counts_sum)\n",
    "cmp(\"counts\", dcounts, counts)\n",
    "cmp(\"norm_logits\", dnorm_logits, norm_logits)\n",
    "cmp(\"logit_maxes\", dlogit_maxes, logit_maxes)\n",
    "cmp(\"logits\", dlogits, logits)\n",
    "cmp(\"h\", dh, h)\n",
    "cmp(\"W2\", dW2, W2)\n",
    "cmp(\"b2\", db2, b2)\n",
    "cmp(\"h_pre_act\", dh_pre_act, h_pre_act)\n",
    "cmp(\"batch_norm_gain\", dbatch_norm_gain, batch_norm_gain)\n",
    "cmp(\"batch_norm_bias\", dbatch_norm_bias, batch_norm_bias)\n",
    "cmp(\"batch_norm_raw\", dbatch_norm_raw, batch_norm_raw)\n",
    "cmp(\"batch_norm_var_inv\", dbatch_norm_var_inv, batch_norm_var_inv)\n",
    "cmp(\"batch_norm_var\", dbatch_norm_var, batch_norm_var)\n",
    "cmp(\"batch_norm_diff_2\", dbatch_norm_diff_2, batch_norm_diff_2)\n",
    "cmp(\"batch_norm_diff\", dbatch_norm_diff, batch_norm_diff)\n",
    "cmp(\"batch_norm_mean_i\", dbatch_norm_mean_i, batch_norm_mean_i)\n",
    "cmp(\"h_pre_batch_norm\", dh_pre_batch_norm, h_pre_batch_norm)\n",
    "cmp(\"embeddings_concat\", dembeddings_concat, embeddings_concat)\n",
    "cmp(\"W1\", dW1, W1)\n",
    "cmp(\"b1\", db1, b1)\n",
    "cmp(\"embeddings\", dembeddings, embeddings)\n",
    "cmp(\"C\", dC, C)"
   ]
  },
  {
   "cell_type": "code",
   "execution_count": 12,
   "metadata": {},
   "outputs": [
    {
     "name": "stdout",
     "output_type": "stream",
     "text": [
      "logits               | exact: False | approximate: True  | maxdiff: 4.656613e-09\n"
     ]
    }
   ],
   "source": [
    "# exercise 2\n",
    "dlogits = F.softmax(logits, 1)\n",
    "dlogits[range(n), Y_batch] -= 1.0\n",
    "dlogits /= n\n",
    "\n",
    "cmp(\"logits\", dlogits, logits)"
   ]
  },
  {
   "cell_type": "code",
   "execution_count": 13,
   "metadata": {},
   "outputs": [
    {
     "name": "stdout",
     "output_type": "stream",
     "text": [
      "hpre_batch_norm      | exact: False | approximate: True  | maxdiff: 6.984919e-10\n"
     ]
    }
   ],
   "source": [
    "# exercise 3\n",
    "dh_pre_batch_norm = (\n",
    "    batch_norm_gain\n",
    "    * batch_norm_var_inv\n",
    "    / n\n",
    "    * (\n",
    "        n * dh_pre_act\n",
    "        - dh_pre_act.sum(0)\n",
    "        - n / (n - 1) * batch_norm_raw * (dh_pre_act * batch_norm_raw).sum(0)\n",
    "    )\n",
    ")\n",
    "\n",
    "cmp(\"hpre_batch_norm\", dh_pre_batch_norm, h_pre_batch_norm)"
   ]
  },
  {
   "cell_type": "markdown",
   "metadata": {},
   "source": [
    "## Putting it all together"
   ]
  },
  {
   "cell_type": "code",
   "execution_count": 14,
   "metadata": {},
   "outputs": [
    {
     "name": "stdout",
     "output_type": "stream",
     "text": [
      "46431\n"
     ]
    }
   ],
   "source": [
    "g = torch.Generator().manual_seed(2147483647)\n",
    "C = torch.randn((vocab_size, N_EMBEDDINGS), generator=g)\n",
    "\n",
    "# first layer\n",
    "W1 = (\n",
    "    torch.randn((N_EMBEDDINGS * CONTEXT_LENGTH, N_HIDDEN), generator=g)\n",
    "    * (5 / 3)\n",
    "    / ((N_EMBEDDINGS * CONTEXT_LENGTH) ** 0.5)\n",
    ")\n",
    "b1 = torch.randn(N_HIDDEN, generator=g) * 0.1\n",
    "\n",
    "# second layer\n",
    "W2 = torch.randn((N_HIDDEN, vocab_size), generator=g) * 0.1\n",
    "b2 = torch.randn(vocab_size, generator=g) * 0.1\n",
    "\n",
    "# BatchNorm parameters\n",
    "batch_norm_gain = torch.randn((1, N_HIDDEN), generator=g) * 0.1 + 1.0\n",
    "batch_norm_bias = torch.randn((1, N_HIDDEN), generator=g) * 0.1\n",
    "\n",
    "parameters = [C, W1, b1, W2, b2, batch_norm_gain, batch_norm_bias]\n",
    "print(sum(p.nelement() for p in parameters))\n",
    "for p in parameters:\n",
    "    p.requires_grad = True"
   ]
  },
  {
   "cell_type": "code",
   "execution_count": 15,
   "metadata": {},
   "outputs": [
    {
     "data": {
      "application/vnd.jupyter.widget-view+json": {
       "model_id": "39bf2b536b34420e98766cc58f6712e5",
       "version_major": 2,
       "version_minor": 0
      },
      "text/plain": [
       "Epoch:   0%|          | 0/200000 [00:00<?, ?it/s]"
      ]
     },
     "metadata": {},
     "output_type": "display_data"
    }
   ],
   "source": [
    "lossi = []\n",
    "\n",
    "progress_bar = tqdm(\n",
    "    range(EPOCHS), desc=\"Epoch\", miniters=20, mininterval=0.5, maxinterval=1\n",
    ")\n",
    "with torch.no_grad():\n",
    "    for i in progress_bar:\n",
    "        ix = torch.randint(0, X_train.shape[0], (BATCH_SIZE,), generator=g)\n",
    "        X_batch, Y_batch = X_train[ix], Y_train[ix]\n",
    "\n",
    "        # forward pass\n",
    "        embeddings = C[X_batch]\n",
    "        embeddings_concat = embeddings.view(embeddings.shape[0], -1)\n",
    "\n",
    "        # Linear layer\n",
    "        h_pre_batch_norm = embeddings_concat @ W1 + b1\n",
    "\n",
    "        # BatchNorm Layer\n",
    "        batch_norm_mean = h_pre_batch_norm.mean(0, keepdim=True)\n",
    "        batch_norm_var = h_pre_batch_norm.var(0, keepdim=True, unbiased=True)\n",
    "        batch_norm_var_inv = (batch_norm_var + 1e-5) ** -0.5\n",
    "        batch_norm_raw = (h_pre_batch_norm - batch_norm_mean) * batch_norm_var_inv\n",
    "        h_pre_act = batch_norm_gain * batch_norm_raw + batch_norm_bias\n",
    "\n",
    "        # Activation\n",
    "        h = torch.tanh(h_pre_act)\n",
    "\n",
    "        logits = h @ W2 + b2\n",
    "        loss = F.cross_entropy(logits, Y_batch)\n",
    "\n",
    "        # backward pass\n",
    "        for p in parameters:\n",
    "            p.grad = None\n",
    "        # loss.backward()\n",
    "\n",
    "        # Manual backpropagation\n",
    "        dlogits = F.softmax(logits, 1)\n",
    "        dlogits[range(n), Y_batch] -= 1.0\n",
    "        dlogits /= n\n",
    "        # 2nd layers backpropagation\n",
    "        dh = dlogits @ W2.T\n",
    "        dW2 = h.T @ dlogits\n",
    "        db2 = dlogits.sum(0)\n",
    "        # tanh\n",
    "        dh_pre_act = (1.0 - h**2) * dh\n",
    "        # batchnorm backprop\n",
    "        dbatch_norm_gain = (batch_norm_raw * dh_pre_act).sum(0, keepdim=True)\n",
    "        dbatch_norm_bias = dh_pre_act.sum(0, keepdim=True)\n",
    "        dh_pre_batch_norm = (\n",
    "            batch_norm_gain\n",
    "            * batch_norm_var_inv\n",
    "            / n\n",
    "            * (\n",
    "                n * dh_pre_act\n",
    "                - dh_pre_act.sum(0)\n",
    "                - n / (n - 1) * batch_norm_raw * (dh_pre_act * batch_norm_raw).sum(0)\n",
    "            )\n",
    "        )\n",
    "        # 1st layer\n",
    "        dembeddings_concat = dh_pre_batch_norm @ W1.T\n",
    "        dW1 = embeddings_concat.T @ dh_pre_batch_norm\n",
    "        db1 = dh_pre_batch_norm.sum(0)\n",
    "        # embedding\n",
    "        dembeddings = dembeddings_concat.view(embeddings.shape)\n",
    "        dC = torch.zeros_like(C)\n",
    "        for k in range(X_batch.shape[0]):\n",
    "            for j in range(X_batch.shape[1]):\n",
    "                ix = X_batch[k, j]\n",
    "                dC[ix] += dembeddings[k, j]\n",
    "\n",
    "        gradients = [dC, dW1, db1, dW2, db2, dbatch_norm_gain, dbatch_norm_bias]\n",
    "\n",
    "        # update\n",
    "        lr = LR_END + (LR_START - LR_END) * math.exp(-K * (i / EPOCHS))\n",
    "        for p, gradient in zip(parameters, gradients):\n",
    "            # if p.grad is not None:\n",
    "            #     p.data += -lr * p.grad\n",
    "            p.data += -lr * gradient\n",
    "\n",
    "        lossi.append(loss.log10().item())\n",
    "\n",
    "        progress_bar.set_postfix(loss=f\"{loss:6f}\", lr=f\"{lr:.6f}\", refresh=False)"
   ]
  },
  {
   "cell_type": "code",
   "execution_count": 16,
   "metadata": {},
   "outputs": [],
   "source": [
    "# useful for checking your gradients\n",
    "# for p, g in zip(parameters, gradients):\n",
    "#     cmp(str(tuple(p.shape)), g, p)"
   ]
  },
  {
   "cell_type": "code",
   "execution_count": 17,
   "metadata": {},
   "outputs": [
    {
     "data": {
      "text/plain": [
       "[<matplotlib.lines.Line2D at 0x7f12a4664f50>]"
      ]
     },
     "execution_count": 17,
     "metadata": {},
     "output_type": "execute_result"
    },
    {
     "data": {
      "image/png": "[encoded data removed]",
      "text/plain": [
       "<Figure size 1000x400 with 1 Axes>"
      ]
     },
     "metadata": {},
     "output_type": "display_data"
    }
   ],
   "source": [
    "plt.figure(figsize=(10, 4))\n",
    "plt.plot(lossi)"
   ]
  },
  {
   "cell_type": "code",
   "execution_count": 18,
   "metadata": {},
   "outputs": [],
   "source": [
    "with torch.no_grad():\n",
    "    embeddings = C[X_train]\n",
    "    embeddings_concat = embeddings.view(embeddings.shape[0], -1)\n",
    "    h_pre_act = embeddings_concat @ W1 + b1\n",
    "    batch_norm_mean = h_pre_act.mean(0, keepdim=True)\n",
    "    batch_norm_var = h_pre_act.var(0, keepdim=True, unbiased=True)"
   ]
  },
  {
   "cell_type": "code",
   "execution_count": 19,
   "metadata": {},
   "outputs": [
    {
     "name": "stdout",
     "output_type": "stream",
     "text": [
      "train 1.794847846031189\n",
      "val 2.038940906524658\n"
     ]
    }
   ],
   "source": [
    "@torch.no_grad()\n",
    "def split_loss(split: str) -> None:\n",
    "    x, y = {\n",
    "        \"train\": (X_train, Y_train),\n",
    "        \"val\": (X_dev, Y_dev),\n",
    "        \"test\": (X_test, Y_test),\n",
    "    }[split]\n",
    "\n",
    "    embeddings = C[x]\n",
    "    embeddings_concat = embeddings.view(embeddings.shape[0], -1)\n",
    "    h_pre_batch_norm = embeddings_concat @ W1 + b1\n",
    "    h_pre_act = (\n",
    "        batch_norm_gain\n",
    "        * (h_pre_batch_norm - batch_norm_mean)\n",
    "        * (batch_norm_var + 1e-5) ** -0.5\n",
    "        + batch_norm_bias\n",
    "    )\n",
    "    h = torch.tanh(h_pre_act)\n",
    "    logits = h @ W2 + b2\n",
    "    loss = F.cross_entropy(logits, y)\n",
    "    print(split, loss.item())\n",
    "\n",
    "\n",
    "split_loss(\"train\")\n",
    "split_loss(\"val\")"
   ]
  },
  {
   "cell_type": "code",
   "execution_count": 20,
   "metadata": {},
   "outputs": [
    {
     "name": "stdout",
     "output_type": "stream",
     "text": [
      "monachmnaz.\n",
      "seelen.\n",
      "haylie.\n",
      "emmasisa.\n",
      "ramon.\n",
      "derron.\n",
      "lilleyghon.\n",
      "leigh.\n",
      "esmae.\n",
      "raylynn.\n",
      "honesti.\n",
      "shubhagihi.\n",
      "jess.\n",
      "jerren.\n",
      "jernel.\n",
      "alfous.\n",
      "kavder.\n",
      "yurue.\n",
      "elsy.\n",
      "majestyn.\n"
     ]
    }
   ],
   "source": [
    "# sample\n",
    "g = torch.Generator().manual_seed(2147483647 + 10)\n",
    "\n",
    "for _ in range(20):\n",
    "    out = []\n",
    "    context = [0] * CONTEXT_LENGTH\n",
    "    while True:\n",
    "        embeddings = C[torch.tensor([context])]\n",
    "        embeddings_concat = embeddings.view(embeddings.shape[0], -1)\n",
    "        h_pre_batch_norm = embeddings_concat @ W1 + b1\n",
    "        h_pre_act = (\n",
    "            batch_norm_gain\n",
    "            * (h_pre_batch_norm - batch_norm_mean)\n",
    "            * (batch_norm_var + 1e-5) ** -0.5\n",
    "            + batch_norm_bias\n",
    "        )\n",
    "        h = torch.tanh(h_pre_act)\n",
    "        logits = h @ W2 + b2\n",
    "\n",
    "        # sample\n",
    "        probs = F.softmax(logits, dim=1)\n",
    "        ix = torch.multinomial(probs, num_samples=1, generator=g).item()\n",
    "        context = context[1:] + [ix]\n",
    "        out.append(ix)\n",
    "        if ix == 0:\n",
    "            break\n",
    "\n",
    "    print(\"\".join(itos[i] for i in out))"
   ]
  },
  {
   "cell_type": "code",
   "execution_count": null,
   "metadata": {},
   "outputs": [],
   "source": []
  }
 ],
 "metadata": {
  "kernelspec": {
   "display_name": ".venv",
   "language": "python",
   "name": "python3"
  },
  "language_info": {
   "codemirror_mode": {
    "name": "ipython",
    "version": 3
   },
   "file_extension": ".py",
   "mimetype": "text/x-python",
   "name": "python",
   "nbconvert_exporter": "python",
   "pygments_lexer": "ipython3",
   "version": "3.12.1"
  }
 },
 "nbformat": 4,
 "nbformat_minor": 2
}
