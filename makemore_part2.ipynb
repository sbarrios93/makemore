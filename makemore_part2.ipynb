{
 "cells": [
  {
   "cell_type": "code",
   "execution_count": 1,
   "metadata": {},
   "outputs": [],
   "source": [
    "import torch\n",
    "import torch.nn.functional as F\n",
    "import matplotlib.pyplot as plt\n",
    "import random\n",
    "import math"
   ]
  },
  {
   "cell_type": "code",
   "execution_count": 2,
   "metadata": {},
   "outputs": [
    {
     "data": {
      "text/plain": [
       "['emma', 'olivia', 'ava', 'isabella', 'sophia']"
      ]
     },
     "execution_count": 2,
     "metadata": {},
     "output_type": "execute_result"
    }
   ],
   "source": [
    "# load words\n",
    "words = open(\"names.txt\").read().splitlines()\n",
    "words[:5]"
   ]
  },
  {
   "cell_type": "code",
   "execution_count": 3,
   "metadata": {},
   "outputs": [
    {
     "name": "stdout",
     "output_type": "stream",
     "text": [
      " 0 -> .\t\t14 -> n\n",
      " 1 -> a\t\t15 -> o\n",
      " 2 -> b\t\t16 -> p\n",
      " 3 -> c\t\t17 -> q\n",
      " 4 -> d\t\t18 -> r\n",
      " 5 -> e\t\t19 -> s\n",
      " 6 -> f\t\t20 -> t\n",
      " 7 -> g\t\t21 -> u\n",
      " 8 -> h\t\t22 -> v\n",
      " 9 -> i\t\t23 -> w\n",
      "10 -> j\t\t24 -> x\n",
      "11 -> k\t\t25 -> y\n",
      "12 -> l\t\t26 -> z\n",
      "13 -> m\t\t\n"
     ]
    }
   ],
   "source": [
    "DELIMITER = \".\"\n",
    "chars = sorted(set(list(\"\".join(words))))\n",
    "stoi = {s: i + 1 for i, s in enumerate(chars)}\n",
    "stoi.update({\".\": 0})\n",
    "itos = {i: s for s, i in stoi.items()}\n",
    "\n",
    "\n",
    "# pretty print\n",
    "skip_index = 27\n",
    "items = [(i, itos.get(i)) for i in range(len(itos)) if i != skip_index]\n",
    "\n",
    "first_col = items[: len(items) // 2 + len(items) % 2]\n",
    "second_col = items[len(items) // 2 + len(items) % 2 :]\n",
    "\n",
    "for first, second in zip(first_col, second_col + [(None, None)]):\n",
    "    first_str = f\"{first[0]:>2} -> {first[1]}\"\n",
    "    second_str = f\"{second[0]:>2} -> {second[1]}\" if second[0] is not None else \"\"\n",
    "    print(f\"{first_str}\\t\\t{second_str}\")"
   ]
  },
  {
   "cell_type": "markdown",
   "metadata": {},
   "source": [
    "Build the dataset"
   ]
  },
  {
   "cell_type": "code",
   "execution_count": 4,
   "metadata": {},
   "outputs": [
    {
     "name": "stdout",
     "output_type": "stream",
     "text": [
      "torch.Size([182625, 4]) torch.Size([182625])\n",
      "torch.Size([22655, 4]) torch.Size([22655])\n",
      "torch.Size([22866, 4]) torch.Size([22866])\n"
     ]
    }
   ],
   "source": [
    "CONTEXT_LENGTH = 4\n",
    "random.seed(42)\n",
    "random.shuffle(words)  # shuffles in place\n",
    "\n",
    "\n",
    "def build_dataset(words: list[str]) -> (torch.Tensor, torch.Tensor):\n",
    "    X, Y = [], []\n",
    "\n",
    "    for word in words:\n",
    "        context = [0] * CONTEXT_LENGTH\n",
    "        for char in word + DELIMITER:\n",
    "            ix = stoi[char]\n",
    "            X.append(context)\n",
    "            Y.append(ix)\n",
    "            context = context[1:] + [ix]\n",
    "\n",
    "    X = torch.tensor(X)\n",
    "    Y = torch.tensor(Y)\n",
    "    print(X.shape, Y.shape)\n",
    "    return X, Y\n",
    "\n",
    "\n",
    "splits = int(0.8 * len(words)), int(0.9 * len(words))\n",
    "\n",
    "X_train, Y_train = build_dataset(words[: splits[0]])\n",
    "X_dev, Y_dev = build_dataset(words[splits[0] : splits[1]])\n",
    "X_test, Y_test = build_dataset(words[splits[1] :])"
   ]
  },
  {
   "cell_type": "code",
   "execution_count": 5,
   "metadata": {},
   "outputs": [],
   "source": [
    "g = torch.Generator().manual_seed(2147483647)\n",
    "C = torch.randn([27, 10], generator=g)\n",
    "W1 = torch.randn([40, 512], generator=g) * 0.01\n",
    "b1 = torch.randn([512], generator=g) * 0.01\n",
    "W2 = torch.randn([512, 27], generator=g) * 0.01\n",
    "b2 = torch.randn([27], generator=g) * 0.01\n",
    "parameters = [C, W1, b1, W2, b2]\n",
    "\n",
    "# add gradients\n",
    "for p in parameters:\n",
    "    p.requires_grad = True"
   ]
  },
  {
   "cell_type": "code",
   "execution_count": 6,
   "metadata": {},
   "outputs": [
    {
     "name": "stdout",
     "output_type": "stream",
     "text": [
      "Number of parameters in model: 35,113\n"
     ]
    }
   ],
   "source": [
    "print(f\"Number of parameters in model: {sum(p.nelement() for p in parameters):,}\")"
   ]
  },
  {
   "cell_type": "markdown",
   "metadata": {},
   "source": [
    "Training"
   ]
  },
  {
   "cell_type": "code",
   "execution_count": 7,
   "metadata": {},
   "outputs": [
    {
     "name": "stdout",
     "output_type": "stream",
     "text": [
      "Epoch      0: loss = 3.295875, lr = 0.300000\n",
      "Epoch  50000: loss = 2.014006, lr = 0.124938\n",
      "Epoch 100000: loss = 2.108584, lr = 0.053763\n",
      "Epoch 150000: loss = 1.929190, lr = 0.024826\n",
      "Epoch 200000: loss = 1.995093, lr = 0.013060\n",
      "Epoch 250000: loss = 2.067602, lr = 0.008277\n",
      "Epoch 300000: loss = 1.986612, lr = 0.006332\n",
      "Epoch 350000: loss = 1.970319, lr = 0.005542\n",
      "Epoch 400000: loss = 1.890660, lr = 0.005220\n",
      "Epoch 450000: loss = 2.171172, lr = 0.005090\n",
      "Epoch 499999: loss = 2.038245, lr = 0.005036\n"
     ]
    }
   ],
   "source": [
    "BATCH_SIZE = 128\n",
    "EPOCHS = 500_000\n",
    "LR_START = 0.3\n",
    "LR_END = 0.005\n",
    "K = 9  # LR decay rate\n",
    "\n",
    "lri = []\n",
    "lossi = []\n",
    "stepi = []\n",
    "\n",
    "for i in range(EPOCHS):\n",
    "    batch_indices = torch.randint(0, X_train.shape[0], (BATCH_SIZE,))\n",
    "\n",
    "    # forward pass\n",
    "    embeddings = C[X_train[batch_indices]]\n",
    "    h = torch.tanh(embeddings.view(-1, 40) @ W1 + b1)\n",
    "    logits = h @ W2 + b2\n",
    "    loss = F.cross_entropy(logits, Y_train[batch_indices])\n",
    "\n",
    "    for p in parameters:\n",
    "        p.grad = None\n",
    "    loss.backward()\n",
    "    lrs = []\n",
    "\n",
    "    lr = LR_END + (LR_START - LR_END) * math.exp(-K * (i / EPOCHS))\n",
    "    for p in parameters:\n",
    "        p.data += -lr * p.grad\n",
    "\n",
    "    # tracking\n",
    "    stepi.append(i)\n",
    "    lri.append(lr)\n",
    "    lossi.append(loss.log10().item())\n",
    "\n",
    "    if (i % (EPOCHS // 10) == 0) | (i == EPOCHS - 1):\n",
    "        print(f\"Epoch {i:6}: loss = {loss:6f}, lr = {lr:.6f}\")"
   ]
  },
  {
   "cell_type": "code",
   "execution_count": 8,
   "metadata": {},
   "outputs": [
    {
     "data": {
      "text/plain": [
       "[<matplotlib.lines.Line2D at 0x7feaf3bf1460>]"
      ]
     },
     "execution_count": 8,
     "metadata": {},
     "output_type": "execute_result"
    },
    {
     "data": {
      "image/png": "[encoded data removed]",
      "text/plain": [
       "<Figure size 640x480 with 1 Axes>"
      ]
     },
     "metadata": {},
     "output_type": "display_data"
    }
   ],
   "source": [
    "plt.plot(stepi, lossi)"
   ]
  },
  {
   "cell_type": "code",
   "execution_count": 9,
   "metadata": {},
   "outputs": [
    {
     "name": "stdout",
     "output_type": "stream",
     "text": [
      "tensor(1.9448, grad_fn=<NllLossBackward0>)\n"
     ]
    }
   ],
   "source": [
    "# loss on whole training set\n",
    "embeddings = C[X_train]\n",
    "h = torch.tanh(embeddings.view(-1, 40) @ W1 + b1)\n",
    "logits = h @ W2 + b2\n",
    "loss = F.cross_entropy(logits, Y_train)\n",
    "print(loss)"
   ]
  },
  {
   "cell_type": "code",
   "execution_count": 10,
   "metadata": {},
   "outputs": [
    {
     "name": "stdout",
     "output_type": "stream",
     "text": [
      "tensor(2.0509, grad_fn=<NllLossBackward0>)\n"
     ]
    }
   ],
   "source": [
    "# loss on dev set\n",
    "embeddings = C[X_dev]\n",
    "h = torch.tanh(embeddings.view(-1, 40) @ W1 + b1)\n",
    "logits = h @ W2 + b2\n",
    "loss = F.cross_entropy(logits, Y_dev)\n",
    "print(loss)"
   ]
  },
  {
   "cell_type": "code",
   "execution_count": 11,
   "metadata": {},
   "outputs": [
    {
     "data": {
      "image/png": "[encoded data removed]",
      "text/plain": [
       "<Figure size 800x800 with 1 Axes>"
      ]
     },
     "metadata": {},
     "output_type": "display_data"
    }
   ],
   "source": [
    "# visualize dimensions 0 and 1 of the embedding matrix C for all characters\n",
    "plt.figure(figsize=(8, 8))\n",
    "plt.scatter(C[:, 0].data, C[:, 1].data, s=200)\n",
    "for i in range(C.shape[0]):\n",
    "    plt.text(\n",
    "        C[i, 0].item(), C[i, 1].item(), itos[i], ha=\"center\", va=\"center\", color=\"white\"\n",
    "    )\n",
    "plt.grid(\"minor\")"
   ]
  },
  {
   "cell_type": "markdown",
   "metadata": {},
   "source": [
    "Sample"
   ]
  },
  {
   "cell_type": "code",
   "execution_count": 12,
   "metadata": {},
   "outputs": [
    {
     "name": "stdout",
     "output_type": "stream",
     "text": [
      "montaimyan.\n",
      "seev.\n",
      "ndhe.\n",
      "alexzamariengra.\n",
      "grazeem.\n",
      "meliah.\n",
      "miloparikelle.\n",
      "naxarielle.\n",
      "malaia.\n",
      "noshruvigah.\n",
      "miel.\n",
      "kindreth.\n",
      "konnon.\n",
      "casuba.\n",
      "gedtryyah.\n",
      "faeha.\n",
      "kayshawn.\n",
      "yamihal.\n",
      "salynn.\n",
      "unizal.\n"
     ]
    }
   ],
   "source": [
    "g = torch.Generator().manual_seed(2147483647 + 10)\n",
    "\n",
    "for _ in range(20):\n",
    "    out = []\n",
    "    context = [0] * CONTEXT_LENGTH\n",
    "    while True:\n",
    "        emb = C[torch.tensor([context])]  # (1,block_size,d)\n",
    "        h = torch.tanh(emb.view(1, -1) @ W1 + b1)\n",
    "        logits = h @ W2 + b2\n",
    "        probs = F.softmax(logits, dim=1)\n",
    "        ix = torch.multinomial(probs, num_samples=1, generator=g).item()\n",
    "        context = context[1:] + [ix]\n",
    "        out.append(ix)\n",
    "        if ix == 0:\n",
    "            break\n",
    "\n",
    "    print(\"\".join(itos[i] for i in out))"
   ]
  },
  {
   "cell_type": "code",
   "execution_count": null,
   "metadata": {},
   "outputs": [],
   "source": []
  }
 ],
 "metadata": {
  "kernelspec": {
   "display_name": ".venv",
   "language": "python",
   "name": "python3"
  },
  "language_info": {
   "codemirror_mode": {
    "name": "ipython",
    "version": 3
   },
   "file_extension": ".py",
   "mimetype": "text/x-python",
   "name": "python",
   "nbconvert_exporter": "python",
   "pygments_lexer": "ipython3",
   "version": "3.12.1"
  }
 },
 "nbformat": 4,
 "nbformat_minor": 2
}
