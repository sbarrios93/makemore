{
 "cells": [
  {
   "cell_type": "code",
   "execution_count": 44,
   "metadata": {},
   "outputs": [
    {
     "name": "stdout",
     "output_type": "stream",
     "text": [
      "The autoreload extension is already loaded. To reload it, use:\n",
      "  %reload_ext autoreload\n"
     ]
    }
   ],
   "source": [
    "import torch\n",
    "import torch.nn.functional as F\n",
    "import matplotlib.pyplot as plt\n",
    "import random\n",
    "from src.makemore.part5 import (\n",
    "    Linear,\n",
    "    BatchNorm1d,\n",
    "    Tanh,\n",
    "    Embedding,\n",
    "    FlattenConsecutive,\n",
    "    Sequential,\n",
    ")\n",
    "from tqdm.notebook import tqdm\n",
    "import math\n",
    "\n",
    "%matplotlib inline\n",
    "\n",
    "# auto reload modules\n",
    "%load_ext autoreload\n",
    "%autoreload 2"
   ]
  },
  {
   "cell_type": "code",
   "execution_count": 45,
   "metadata": {},
   "outputs": [
    {
     "name": "stdout",
     "output_type": "stream",
     "text": [
      "32033\n",
      "15\n",
      "['emma', 'olivia', 'ava', 'isabella', 'sophia', 'charlotte', 'mia', 'amelia']\n"
     ]
    }
   ],
   "source": [
    "words = open(\"names.txt\", \"r\").read().splitlines()\n",
    "print(len(words))\n",
    "print(max(len(w) for w in words))\n",
    "print(words[:8])"
   ]
  },
  {
   "cell_type": "code",
   "execution_count": 46,
   "metadata": {},
   "outputs": [],
   "source": [
    "DELIMITER = \".\"\n",
    "# architecture\n",
    "CONTEXT_LENGTH = 8\n",
    "N_EMBEDDINGS = 10\n",
    "N_HIDDEN = 200\n",
    "# training\n",
    "BATCH_SIZE = 32\n",
    "EPOCHS = 200_000\n",
    "LR_START = 0.1\n",
    "DROP = 0.5\n",
    "DROP_STEP = math.floor(EPOCHS / 3.32)"
   ]
  },
  {
   "cell_type": "code",
   "execution_count": 47,
   "metadata": {},
   "outputs": [
    {
     "name": "stdout",
     "output_type": "stream",
     "text": [
      " 0 -> .\t\t14 -> n\n",
      " 1 -> a\t\t15 -> o\n",
      " 2 -> b\t\t16 -> p\n",
      " 3 -> c\t\t17 -> q\n",
      " 4 -> d\t\t18 -> r\n",
      " 5 -> e\t\t19 -> s\n",
      " 6 -> f\t\t20 -> t\n",
      " 7 -> g\t\t21 -> u\n",
      " 8 -> h\t\t22 -> v\n",
      " 9 -> i\t\t23 -> w\n",
      "10 -> j\t\t24 -> x\n",
      "11 -> k\t\t25 -> y\n",
      "12 -> l\t\t26 -> z\n",
      "13 -> m\t\t\n"
     ]
    }
   ],
   "source": [
    "chars = sorted(set(list(\"\".join(words))))\n",
    "stoi = {s: i + 1 for i, s in enumerate(chars)}\n",
    "stoi.update({\".\": 0})\n",
    "itos = {i: s for s, i in stoi.items()}\n",
    "vocab_size = len(itos)\n",
    "\n",
    "\n",
    "# pretty print\n",
    "skip_index = 27\n",
    "items = [(i, itos.get(i)) for i in range(len(itos)) if i != skip_index]\n",
    "\n",
    "first_col = items[: len(items) // 2 + len(items) % 2]\n",
    "second_col = items[len(items) // 2 + len(items) % 2 :]\n",
    "\n",
    "for first, second in zip(first_col, second_col + [(None, None)]):\n",
    "    first_str = f\"{first[0]:>2} -> {first[1]}\"\n",
    "    second_str = f\"{second[0]:>2} -> {second[1]}\" if second[0] is not None else \"\"\n",
    "    print(f\"{first_str}\\t\\t{second_str}\")"
   ]
  },
  {
   "cell_type": "code",
   "execution_count": 48,
   "metadata": {},
   "outputs": [
    {
     "name": "stdout",
     "output_type": "stream",
     "text": [
      "torch.Size([182625, 8]) torch.Size([182625])\n",
      "torch.Size([22655, 8]) torch.Size([22655])\n",
      "torch.Size([22866, 8]) torch.Size([22866])\n"
     ]
    }
   ],
   "source": [
    "# build the dataset\n",
    "random.seed(42)\n",
    "random.shuffle(words)  # shuffles in place\n",
    "\n",
    "\n",
    "def build_dataset(words: list[str]) -> tuple[torch.Tensor, torch.Tensor]:\n",
    "    X, Y = [], []\n",
    "\n",
    "    for word in words:\n",
    "        context = [0] * CONTEXT_LENGTH\n",
    "        for char in word + DELIMITER:\n",
    "            ix = stoi[char]\n",
    "            X.append(context)\n",
    "            Y.append(ix)\n",
    "            context = context[1:] + [ix]\n",
    "\n",
    "    X = torch.tensor(X)\n",
    "    Y = torch.tensor(Y)\n",
    "    print(X.shape, Y.shape)\n",
    "    return X, Y\n",
    "\n",
    "\n",
    "splits = int(0.8 * len(words)), int(0.9 * len(words))\n",
    "\n",
    "X_train, Y_train = build_dataset(words[: splits[0]])\n",
    "X_dev, Y_dev = build_dataset(words[splits[0] : splits[1]])\n",
    "X_test, Y_test = build_dataset(words[splits[1] :])"
   ]
  },
  {
   "cell_type": "code",
   "execution_count": 49,
   "metadata": {},
   "outputs": [
    {
     "name": "stdout",
     "output_type": "stream",
     "text": [
      "........ --> y\n",
      ".......y --> u\n",
      "......yu --> h\n",
      ".....yuh --> e\n",
      "....yuhe --> n\n",
      "...yuhen --> g\n",
      "..yuheng --> .\n",
      "........ --> d\n",
      ".......d --> i\n",
      "......di --> o\n",
      ".....dio --> n\n",
      "....dion --> d\n",
      "...diond --> r\n",
      "..diondr --> e\n",
      ".diondre --> .\n",
      "........ --> x\n",
      ".......x --> a\n",
      "......xa --> v\n",
      ".....xav --> i\n",
      "....xavi --> e\n"
     ]
    }
   ],
   "source": [
    "for x, y in zip(X_train[:20], Y_train[:20]):\n",
    "    print(\"\".join(itos[ix.item()] for ix in x), \"-->\", itos[y.item()])"
   ]
  },
  {
   "cell_type": "code",
   "execution_count": 50,
   "metadata": {},
   "outputs": [],
   "source": [
    "torch.manual_seed(42);"
   ]
  },
  {
   "cell_type": "code",
   "execution_count": 58,
   "metadata": {},
   "outputs": [
    {
     "name": "stdout",
     "output_type": "stream",
     "text": [
      "170897\n"
     ]
    }
   ],
   "source": [
    "model = Sequential(\n",
    "    [\n",
    "        Embedding(vocab_size, N_EMBEDDINGS),\n",
    "        FlattenConsecutive(2),\n",
    "        Linear(N_EMBEDDINGS * 2, N_HIDDEN, bias=False),\n",
    "        BatchNorm1d(N_HIDDEN),\n",
    "        Tanh(),\n",
    "        FlattenConsecutive(2),\n",
    "        Linear(N_HIDDEN * 2, N_HIDDEN, bias=False),\n",
    "        BatchNorm1d(N_HIDDEN),\n",
    "        Tanh(),\n",
    "        FlattenConsecutive(2),\n",
    "        Linear(N_HIDDEN * 2, N_HIDDEN, bias=False),\n",
    "        BatchNorm1d(N_HIDDEN),\n",
    "        Tanh(),\n",
    "        Linear(N_HIDDEN, vocab_size),\n",
    "    ]\n",
    ")\n",
    "\n",
    "# parameter init\n",
    "with torch.no_grad():\n",
    "    model.layers[-1].weight *= 0.1\n",
    "\n",
    "parameters = model.parameters()\n",
    "print(sum(p.nelement() for p in parameters))\n",
    "for p in parameters:\n",
    "    p.requires_grad = True"
   ]
  },
  {
   "cell_type": "code",
   "execution_count": 59,
   "metadata": {},
   "outputs": [
    {
     "name": "stdout",
     "output_type": "stream",
     "text": [
      "torch.Size([4, 8])\n"
     ]
    },
    {
     "data": {
      "text/plain": [
       "tensor([[ 0,  0,  3,  8, 18,  9, 19, 20],\n",
       "        [ 0,  0,  0,  0,  0,  0, 11, 15],\n",
       "        [ 0,  0,  0,  0, 19,  1, 13, 25],\n",
       "        [ 0,  0,  0,  0,  0,  0,  0, 25]])"
      ]
     },
     "execution_count": 59,
     "metadata": {},
     "output_type": "execute_result"
    }
   ],
   "source": [
    "ix = torch.randint(0, X_train.shape[0], (4,))  # batch of just 4 examples\n",
    "X_batch, Y_batch = X_train[ix], Y_train[ix]\n",
    "logits = model(X_batch)\n",
    "print(X_batch.shape)\n",
    "X_batch"
   ]
  },
  {
   "cell_type": "code",
   "execution_count": 60,
   "metadata": {},
   "outputs": [
    {
     "name": "stdout",
     "output_type": "stream",
     "text": [
      "Embedding : (4, 8, 10)\n",
      "FlattenConsecutive : (4, 4, 20)\n",
      "Linear : (4, 4, 200)\n",
      "BatchNorm1d : (4, 4, 200)\n",
      "Tanh : (4, 4, 200)\n",
      "FlattenConsecutive : (4, 2, 400)\n",
      "Linear : (4, 2, 200)\n",
      "BatchNorm1d : (4, 2, 200)\n",
      "Tanh : (4, 2, 200)\n",
      "FlattenConsecutive : (4, 400)\n",
      "Linear : (4, 200)\n",
      "BatchNorm1d : (4, 200)\n",
      "Tanh : (4, 200)\n",
      "Linear : (4, 27)\n"
     ]
    }
   ],
   "source": [
    "for layer in model.layers:\n",
    "    print(layer.__class__.__name__, \":\", tuple(layer.out.shape))"
   ]
  },
  {
   "cell_type": "code",
   "execution_count": 9,
   "metadata": {},
   "outputs": [
    {
     "data": {
      "application/vnd.jupyter.widget-view+json": {
       "model_id": "07a47a04e37d4b3a9e37ccfde64955de",
       "version_major": 2,
       "version_minor": 0
      },
      "text/plain": [
       "Epoch:   0%|          | 0/200000 [00:00<?, ?it/s]"
      ]
     },
     "metadata": {},
     "output_type": "display_data"
    }
   ],
   "source": [
    "ud = []\n",
    "lri = []\n",
    "lossi = []\n",
    "stepi = []\n",
    "progress_bar = tqdm(\n",
    "    range(EPOCHS), desc=\"Epoch\", miniters=20, mininterval=0.5, maxinterval=1\n",
    ")\n",
    "\n",
    "for i in progress_bar:\n",
    "    ix = torch.randint(0, X_train.shape[0], (BATCH_SIZE,))\n",
    "    X_batch, Y_batch = X_train[ix], Y_train[ix]\n",
    "\n",
    "    logits = model(X_batch)\n",
    "    loss = F.cross_entropy(logits, Y_batch)\n",
    "\n",
    "    for p in parameters:\n",
    "        p.grad = None\n",
    "    loss.backward()\n",
    "\n",
    "    # update\n",
    "    lr = LR_START * DROP ** math.floor((1 + i) / DROP_STEP)\n",
    "    for p in parameters:\n",
    "        if p.grad is not None:\n",
    "            p.data += -lr * p.grad\n",
    "\n",
    "    # track stats\n",
    "    stepi.append(i)\n",
    "    lri.append(lr)\n",
    "    lossi.append(loss.log10().item())\n",
    "\n",
    "    with torch.no_grad():\n",
    "        ud.append(\n",
    "            [\n",
    "                (lr * p.grad.std() / p.data.std()).log10().item()\n",
    "                for p in parameters\n",
    "                if isinstance(p.grad, torch.Tensor)\n",
    "            ]\n",
    "        )\n",
    "    progress_bar.set_postfix(loss=f\"{loss:6f}\", lr=f\"{lr:.6f}\", refresh=False)"
   ]
  },
  {
   "cell_type": "code",
   "execution_count": 10,
   "metadata": {},
   "outputs": [
    {
     "data": {
      "text/plain": [
       "[<matplotlib.lines.Line2D at 0x7fa892bf4ef0>]"
      ]
     },
     "execution_count": 10,
     "metadata": {},
     "output_type": "execute_result"
    },
    {
     "data": {
      "image/png": "[encoded data removed]",
      "text/plain": [
       "<Figure size 640x480 with 1 Axes>"
      ]
     },
     "metadata": {},
     "output_type": "display_data"
    }
   ],
   "source": [
    "plt.plot(torch.tensor(lossi).view(-1, 1000).mean(1))"
   ]
  },
  {
   "cell_type": "code",
   "execution_count": 11,
   "metadata": {},
   "outputs": [],
   "source": [
    "# put layers in eval mode\n",
    "for layer in model.layers:\n",
    "    layer.training = False"
   ]
  },
  {
   "cell_type": "code",
   "execution_count": 12,
   "metadata": {},
   "outputs": [
    {
     "name": "stdout",
     "output_type": "stream",
     "text": [
      "train 1.9212758541107178\n",
      "val 2.040032148361206\n"
     ]
    }
   ],
   "source": [
    "# evaluate the loss\n",
    "@torch.no_grad()\n",
    "def split_loss(split):\n",
    "    x, y = {\n",
    "        \"train\": (X_train, Y_train),\n",
    "        \"val\": (X_dev, Y_dev),\n",
    "        \"test\": (X_test, Y_test),\n",
    "    }[split]\n",
    "    logits = model(x)\n",
    "    loss = F.cross_entropy(logits, y)\n",
    "    print(split, loss.item())\n",
    "\n",
    "\n",
    "split_loss(\"train\")\n",
    "split_loss(\"val\")"
   ]
  },
  {
   "cell_type": "code",
   "execution_count": 13,
   "metadata": {},
   "outputs": [
    {
     "name": "stdout",
     "output_type": "stream",
     "text": [
      "yeverii.\n",
      "kya.\n",
      "kylek.\n",
      "tisking.\n",
      "brixtan.\n",
      "jaider.\n",
      "grayson.\n",
      "aziel.\n",
      "jiildy.\n",
      "davry.\n",
      "olbe.\n",
      "aerik.\n",
      "milar.\n",
      "ywen.\n",
      "mirabella.\n",
      "oluwase.\n",
      "josusas.\n",
      "ramiel.\n",
      "ellio.\n",
      "delina.\n"
     ]
    }
   ],
   "source": [
    "# sample from the model\n",
    "\n",
    "for _ in range(20):\n",
    "    out = []\n",
    "    context = [0] * CONTEXT_LENGTH\n",
    "    while True:\n",
    "        logits = model(torch.tensor([context]))\n",
    "        probs = F.softmax(logits, dim=1)\n",
    "\n",
    "        # sample from distribution\n",
    "        ix = torch.multinomial(probs, num_samples=1).item()\n",
    "\n",
    "        context = context[1:] + [ix]\n",
    "        out.append(ix)\n",
    "        if ix == 0:\n",
    "            break\n",
    "\n",
    "    print(\"\".join(itos[i] for i in out))"
   ]
  },
  {
   "cell_type": "code",
   "execution_count": null,
   "metadata": {},
   "outputs": [],
   "source": []
  }
 ],
 "metadata": {
  "kernelspec": {
   "display_name": ".venv",
   "language": "python",
   "name": "python3"
  },
  "language_info": {
   "codemirror_mode": {
    "name": "ipython",
    "version": 3
   },
   "file_extension": ".py",
   "mimetype": "text/x-python",
   "name": "python",
   "nbconvert_exporter": "python",
   "pygments_lexer": "ipython3",
   "version": "3.12.1"
  }
 },
 "nbformat": 4,
 "nbformat_minor": 2
}
